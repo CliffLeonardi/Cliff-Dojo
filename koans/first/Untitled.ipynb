{
 "cells": [
  {
   "cell_type": "markdown",
   "metadata": {},
   "source": [
    "Basic Syntax and Python Lesson:\n",
    "\n",
    "To Load Jupyter just type \"jupyter notebook\""
   ]
  },
  {
   "cell_type": "code",
   "execution_count": 15,
   "metadata": {
    "collapsed": false
   },
   "outputs": [
    {
     "name": "stdout",
     "output_type": "stream",
     "text": [
      "1\n"
     ]
    }
   ],
   "source": [
    "anInt = 1\n",
    "aFloat = 3.141592\n",
    "aString = \"foo\"\n",
    "aList = [1,2]\n",
    "aSet = ([3,4])\n",
    "aBoolean = True\n",
    "aDict = {\"hello\":\"world\"}\n",
    "print(anInt)"
   ]
  },
  {
   "cell_type": "markdown",
   "metadata": {},
   "source": [
    "Defined Primitive types in a weakly typed language. All languages have primitive types which are uniquely defined within that language and which are native to that language. They are usually immutable. Any operation which acts on a primitive type will usually overrite any memory storing that primitive type with the new primitive type.\n",
    "\n",
    "Primitive Types when created allocate memory to that data structure.\n",
    "\n",
    "Python is a high level programming language. It is not a compiled language like C. C must declare how to allocate memory from the beginning and has no inferences because everything is explicitly defined. \n",
    "\n",
    "In python aDict is a very powerful primitive."
   ]
  },
  {
   "cell_type": "code",
   "execution_count": 11,
   "metadata": {
    "collapsed": false
   },
   "outputs": [
    {
     "data": {
      "text/plain": [
       "5.0"
      ]
     },
     "execution_count": 11,
     "metadata": {},
     "output_type": "execute_result"
    }
   ],
   "source": [
    "from math import sqrt\n",
    "# this is bringing in a standard built in python library. In this case it's \"math\"\n",
    "\n",
    "a = 3\n",
    "b = 4\n",
    "sqrt((a*a)+(b*b))\n"
   ]
  },
  {
   "cell_type": "markdown",
   "metadata": {},
   "source": [
    "This is solving a basic pythagorean theorem. There are multiple ways to solve this. sqrt(a**2+b**2) print(c) would accomplish the same thing."
   ]
  },
  {
   "cell_type": "code",
   "execution_count": 7,
   "metadata": {
    "collapsed": false
   },
   "outputs": [
    {
     "name": "stdout",
     "output_type": "stream",
     "text": [
      "['foo']\n",
      "foobar\n",
      "f\n"
     ]
    }
   ],
   "source": [
    "a = \"foo\"\n",
    "b = \"bar\"\n",
    "print(a.split())\n",
    "print(a+b)\n",
    "print(a[0])"
   ]
  },
  {
   "cell_type": "code",
   "execution_count": 9,
   "metadata": {
    "collapsed": false
   },
   "outputs": [
    {
     "name": "stdout",
     "output_type": "stream",
     "text": [
      "['a', 'b', 'c', 'de']\n"
     ]
    }
   ],
   "source": [
    "c = \"a,b,c,de\"\n",
    "print(c.split(\",\"))"
   ]
  },
  {
   "cell_type": "markdown",
   "metadata": {},
   "source": [
    "Strings are mostly used to present information. "
   ]
  },
  {
   "cell_type": "code",
   "execution_count": 14,
   "metadata": {
    "collapsed": false
   },
   "outputs": [
    {
     "name": "stdout",
     "output_type": "stream",
     "text": [
      "0\n",
      "1\n",
      "2\n",
      "3\n",
      "4\n",
      "5\n",
      "6\n",
      "7\n",
      "8\n",
      "9\n",
      "10\n"
     ]
    }
   ],
   "source": [
    "listFromZeroToTen = [0,1,2,3,4,5,6,7,8,9,10]\n",
    "\n",
    "for thisNumber in listFromZeroToTen:\n",
    "    print(thisNumber)"
   ]
  },
  {
   "cell_type": "markdown",
   "metadata": {},
   "source": [
    "Lists contain lists of information. This can be anything we store in Python (Other lists, variables, etc.) In the case above we defined the variable \"thisNumber\" in the request, then called it in Print. "
   ]
  },
  {
   "cell_type": "code",
   "execution_count": 20,
   "metadata": {
    "collapsed": false
   },
   "outputs": [
    {
     "name": "stdout",
     "output_type": "stream",
     "text": [
      "0\n",
      "1\n",
      "2\n",
      "3\n",
      "4\n",
      "5\n",
      "6\n",
      "7\n",
      "8\n",
      "9\n",
      "10\n"
     ]
    }
   ],
   "source": [
    "listFromZeroToTen = [0,1,2,3,4,5,6,7,8,9,10]\n",
    "i = 0\n",
    "while(i<len(listFromZeroToTen)):\n",
    "    print(listFromZeroToTen[i])\n",
    "    i+=1"
   ]
  },
  {
   "cell_type": "markdown",
   "metadata": {},
   "source": [
    "Iterators - while and for\n",
    "\n",
    "Good Rule for programming: \"Do Not Repeat Yourself\"\n",
    "\n",
    "Read up on PEP8 (python standard formatting)\n"
   ]
  },
  {
   "cell_type": "code",
   "execution_count": 21,
   "metadata": {
    "collapsed": false
   },
   "outputs": [
    {
     "name": "stdout",
     "output_type": "stream",
     "text": [
      "yes\n",
      "foobar\n"
     ]
    }
   ],
   "source": [
    "if (1>0):\n",
    "    print(\"yes\")\n",
    "\n",
    "if (1<0):\n",
    "    print(\"no\")\n",
    "\n",
    "else:\n",
    "    print(\"foobar\")"
   ]
  },
  {
   "cell_type": "markdown",
   "metadata": {},
   "source": [
    "above declares some if/else statements"
   ]
  },
  {
   "cell_type": "markdown",
   "metadata": {},
   "source": [
    "Let's Write Rock, Paper, Scissors.\n",
    "No functions allowed (that we define)\n",
    "\n",
    "What We Need:\n",
    "\n",
    "*Decision Statements\n",
    "*User Input\n",
    "*Random Num Generator\n",
    "*Display Results\n",
    "*List of Valid Moves"
   ]
  },
  {
   "cell_type": "code",
   "execution_count": 29,
   "metadata": {
    "collapsed": false
   },
   "outputs": [
    {
     "name": "stdout",
     "output_type": "stream",
     "text": [
      "scissors\n",
      "Computer played paper. Victory\n"
     ]
    }
   ],
   "source": [
    "user_move = input()\n",
    "valid_moves = [\"rock\",\"paper\",\"scissors\"]\n",
    "#These are our variables\n",
    "\n",
    "from random import randint\n",
    "#importing the random library. Specifically the \"randint\" command.\n",
    "\n",
    "computer_move = valid_moves[randint(0,2)]\n",
    "#picking a random number which correlates to our list\n",
    "\n",
    "while user_move not in valid_moves:\n",
    "    user_move = input()\n",
    "#creates a user input box that checks the input is part of the list of valid moves\n",
    "\n",
    "if(user_move == \"rock\")and(computer_move == \"paper\"):\n",
    "    print(\"Computer played paper. You Lose\")\n",
    "if(user_move == \"paper\")and(computer_move == \"paper\"):\n",
    "    print(\"Computer played paper. Tie\")\n",
    "if(user_move == \"scissors\")and(computer_move == \"paper\"):\n",
    "    print(\"Computer played paper. Victory\")\n",
    "    \n",
    "if(user_move == \"scissors\")and(computer_move == \"rock\"):\n",
    "    print(\"Computer played rock. You Lose\")\n",
    "if(user_move == \"rock\")and(computer_move == \"rock\"):\n",
    "    print(\"Computer played rock. Tie\")\n",
    "if(user_move == \"paper\")and(computer_move == \"rock\"):\n",
    "    print(\"Computer played rock. Victory\")\n",
    "\n",
    "if(user_move == \"paper\")and(computer_move == \"scissors\"):\n",
    "    print(\"Computer played scissors. You Lose\")\n",
    "if(user_move == \"scissors\")and(computer_move == \"scissors\"):\n",
    "    print(\"Computer played scissors. Tie\")\n",
    "if(user_move == \"rock\")and(computer_move == \"scissors\"):\n",
    "    print(\"Computer played scissors. Victory\")"
   ]
  },
  {
   "cell_type": "code",
   "execution_count": null,
   "metadata": {
    "collapsed": true
   },
   "outputs": [],
   "source": []
  },
  {
   "cell_type": "code",
   "execution_count": null,
   "metadata": {
    "collapsed": true
   },
   "outputs": [],
   "source": []
  }
 ],
 "metadata": {
  "kernelspec": {
   "display_name": "Python 3",
   "language": "python",
   "name": "python3"
  },
  "language_info": {
   "codemirror_mode": {
    "name": "ipython",
    "version": 3
   },
   "file_extension": ".py",
   "mimetype": "text/x-python",
   "name": "python",
   "nbconvert_exporter": "python",
   "pygments_lexer": "ipython3",
   "version": "3.5.1"
  }
 },
 "nbformat": 4,
 "nbformat_minor": 0
}
