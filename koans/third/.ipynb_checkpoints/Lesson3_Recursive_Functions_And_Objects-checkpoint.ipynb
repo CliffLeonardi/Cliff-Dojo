{
 "cells": [
  {
   "cell_type": "markdown",
   "metadata": {},
   "source": [
    "Resursive Functions"
   ]
  },
  {
   "cell_type": "code",
   "execution_count": 22,
   "metadata": {
    "collapsed": false
   },
   "outputs": [
    {
     "ename": "SyntaxError",
     "evalue": "invalid syntax (<ipython-input-22-a506d93a0038>, line 1)",
     "output_type": "error",
     "traceback": [
      "\u001b[0;36m  File \u001b[0;32m\"<ipython-input-22-a506d93a0038>\"\u001b[0;36m, line \u001b[0;32m1\u001b[0m\n\u001b[0;31m    Def foobar(x, y, z):\u001b[0m\n\u001b[0m             ^\u001b[0m\n\u001b[0;31mSyntaxError\u001b[0m\u001b[0;31m:\u001b[0m invalid syntax\n"
     ]
    }
   ],
   "source": [
    "Def foobar(x, y, z):\n",
    "    print(x)\n",
    "    return x+y*z\n",
    "foobar = lambda x,y,z:x+y*z"
   ]
  },
  {
   "cell_type": "markdown",
   "metadata": {},
   "source": [
    "To understand recursion, first you must undersand recursion"
   ]
  },
  {
   "cell_type": "code",
   "execution_count": 3,
   "metadata": {
    "collapsed": true
   },
   "outputs": [],
   "source": [
    "def print_every_three(l):\n",
    "    counter = 0\n",
    "    for item in l:\n",
    "        if counter % 3 == 0:\n",
    "            counter += 1\n",
    "            print(item)\n",
    "        else:\n",
    "            pass\n",
    "        counter += 1\n",
    "        "
   ]
  },
  {
   "cell_type": "markdown",
   "metadata": {},
   "source": [
    "Recursion is a function calling itself. \n",
    "\n",
    " - Self-Call\n",
    " - Similar to iteration (for & while loop)\n",
    " - Bad at many calls (called Blowing the Stack)\n",
    " - Good at retries"
   ]
  },
  {
   "cell_type": "code",
   "execution_count": 4,
   "metadata": {
    "collapsed": true
   },
   "outputs": [],
   "source": [
    "def fib(n):\n",
    "    if n == 0:\n",
    "        return 0\n",
    "    elif n == 1:\n",
    "        return 1\n",
    "    else:\n",
    "        return fib(n-1)+fib(n-2)"
   ]
  },
  {
   "cell_type": "code",
   "execution_count": 13,
   "metadata": {
    "collapsed": false
   },
   "outputs": [
    {
     "data": {
      "text/plain": [
       "89"
      ]
     },
     "execution_count": 13,
     "metadata": {},
     "output_type": "execute_result"
    }
   ],
   "source": [
    "fib(11)"
   ]
  },
  {
   "cell_type": "code",
   "execution_count": 16,
   "metadata": {
    "collapsed": false
   },
   "outputs": [
    {
     "ename": "SyntaxError",
     "evalue": "invalid syntax (<ipython-input-16-8431c322fc3a>, line 2)",
     "output_type": "error",
     "traceback": [
      "\u001b[0;36m  File \u001b[0;32m\"<ipython-input-16-8431c322fc3a>\"\u001b[0;36m, line \u001b[0;32m2\u001b[0m\n\u001b[0;31m    counter == 0:\u001b[0m\n\u001b[0m                ^\u001b[0m\n\u001b[0;31mSyntaxError\u001b[0m\u001b[0;31m:\u001b[0m invalid syntax\n"
     ]
    }
   ],
   "source": [
    "def print_third(l):\n",
    "    counter == 0:\n",
    "    for item in l:\n",
    "        print(l)\n",
    "    if counter % 3 == 0:\n",
    "        print(item)\n",
    "    counter += 1\n",
    "    \n",
    "# Recursive Function below\n",
    "        \n",
    "list = append, pop\n",
    "\n",
    "def rec_3rd(, l, counter = 0)\n",
    "    if not l:\n",
    "        return\n",
    "    elif counter % 3 == 0:\n",
    "        print(l.pop())\n",
    "    else:\n",
    "        l.pop()\n",
    "        return rec_3rd(l, counter+1)\n",
    "    "
   ]
  },
  {
   "cell_type": "code",
   "execution_count": 17,
   "metadata": {
    "collapsed": true
   },
   "outputs": [],
   "source": [
    "def rec_rev(l, newl=[]):\n",
    "    if not l:\n",
    "        return newl\n",
    "    newl = newl+[l.pop()]\n",
    "    return rec_rev(l, newl)"
   ]
  },
  {
   "cell_type": "markdown",
   "metadata": {},
   "source": [
    "Objects:\n",
    "\n",
    "- properties\n",
    "- methods\n",
    "- they are static\n",
    "- dynamic\n",
    "- instantiated \n",
    "- inheritance\n",
    "\n",
    "Think about it like a cat - properties of a cat would be a name, and breed, and methods would be the things it can do like scratch, or meow."
   ]
  },
  {
   "cell_type": "code",
   "execution_count": 21,
   "metadata": {
    "collapsed": false
   },
   "outputs": [
    {
     "ename": "SyntaxError",
     "evalue": "invalid syntax (<ipython-input-21-c4aab3e14b02>, line 2)",
     "output_type": "error",
     "traceback": [
      "\u001b[0;36m  File \u001b[0;32m\"<ipython-input-21-c4aab3e14b02>\"\u001b[0;36m, line \u001b[0;32m2\u001b[0m\n\u001b[0;31m    def __init__(self, name)\u001b[0m\n\u001b[0m                            ^\u001b[0m\n\u001b[0;31mSyntaxError\u001b[0m\u001b[0;31m:\u001b[0m invalid syntax\n"
     ]
    }
   ],
   "source": [
    "class CatClass:\n",
    "    def __init__(self, name)\n",
    "    self.name = name\n",
    "    \n",
    "meowzer = CatClass(name = \"Meowzer\")\n",
    "jimmy = CatClass(name = \"Jimmy\")\n",
    "\n",
    "class Animal:\n",
    "    def cry(self, noise = None):\n",
    "        print(noise)\n",
    "        \n",
    "class Cat(Animal):\n",
    "    None\n",
    "    "
   ]
  },
  {
   "cell_type": "code",
   "execution_count": null,
   "metadata": {
    "collapsed": true
   },
   "outputs": [],
   "source": []
  }
 ],
 "metadata": {
  "kernelspec": {
   "display_name": "Python 2",
   "language": "python",
   "name": "python2"
  },
  "language_info": {
   "codemirror_mode": {
    "name": "ipython",
    "version": 2
   },
   "file_extension": ".py",
   "mimetype": "text/x-python",
   "name": "python",
   "nbconvert_exporter": "python",
   "pygments_lexer": "ipython2",
   "version": "2.7.10"
  }
 },
 "nbformat": 4,
 "nbformat_minor": 0
}
