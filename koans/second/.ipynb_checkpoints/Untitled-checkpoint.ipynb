{
 "cells": [
  {
   "cell_type": "markdown",
   "metadata": {},
   "source": [
    "# This is Lesson 2"
   ]
  },
  {
   "cell_type": "markdown",
   "metadata": {},
   "source": [
    "1.) create a variable of each kind and print them\n",
    "2.) Iterate over a list and count to 5\n",
    "3.) Create a user input, if \"yes\" print \"woo\" else print \"nahhh\""
   ]
  },
  {
   "cell_type": "code",
   "execution_count": null,
   "metadata": {
    "collapsed": false
   },
   "outputs": [],
   "source": [
    "x = raw_input()\n",
    "\n",
    "integer = 5\n",
    "string = \"hi\" \n",
    "floats = \n",
    "arrays\n",
    "lists"
   ]
  },
  {
   "cell_type": "markdown",
   "metadata": {},
   "source": [
    "## What is a function?\n",
    "\n",
    "### In math\n",
    "In mathematics, a function is a relation between a set of inputs and a set of permissible outputs with the property that each input is related to exactly one output.\n",
    "\n",
    "###### Injective and surjective functions\n",
    "A function is called injective (or one-to-one, or an injection) if f(a) ≠ f(b) for any two different elements a and b of the domain. It is called surjective (or onto) if f(X) = Y. That is, it is surjective if for every element y in the codomain there is an x in the domain such that f(x) = y. Finally f is called bijective if it is both injective and surjective. This nomenclature was introduced by the Bourbaki group.*\n",
    "\n",
    "### In programming\n",
    "\n",
    "In computer programming, a \"subroutine\" (often called a function) is a sequence of program instructions that perform a specific task, packaged as a unit. This unit can then be used in programs wherever that particular task should be performed. Subprograms may be defined within programs, or separately in libraries that can be used by multiple programs. In different programming languages, a subroutine may be called a procedure, a function, a routine, a method, or a subprogram. \n",
    "\n",
    "### What about functional programming?\n",
    "\n",
    "In computer science, functional programming is a programming paradigm—a style of building the structure and elements of computer programs—that treats computation as the evaluation of mathematical functions and avoids changing-state and mutable data.\n"
   ]
  },
  {
   "cell_type": "code",
   "execution_count": 1,
   "metadata": {
    "collapsed": false
   },
   "outputs": [
    {
     "data": {
      "text/plain": [
       "True"
      ]
     },
     "execution_count": 1,
     "metadata": {},
     "output_type": "execute_result"
    }
   ],
   "source": [
    "#EXAMPLE FUNCTION\n",
    "def name_of_function(arg1, arg2, _):\n",
    "    return\n",
    "#HOW WE CALL THE FUNCTION\n",
    "variable = name_of_function('argument1', {}, [])\n",
    "variable is None"
   ]
  },
  {
   "cell_type": "markdown",
   "metadata": {},
   "source": [
    "This is HOMEWORK! Turn the Lambdas into full functions!\n",
    "\n",
    "Go through each lambda and create a function with a passing value and a failing value."
   ]
  },
  {
   "cell_type": "code",
   "execution_count": 2,
   "metadata": {
    "collapsed": false
   },
   "outputs": [
    {
     "name": "stdout",
     "output_type": "stream",
     "text": [
      "25\n"
     ]
    }
   ],
   "source": [
    "def square_number(number):\n",
    "    return number * number\n",
    "\n",
    "returned_value = square_number(5)\n",
    "print(returned_value)"
   ]
  },
  {
   "cell_type": "code",
   "execution_count": 6,
   "metadata": {
    "collapsed": true
   },
   "outputs": [],
   "source": [
    "square = lambda x: x*x\n",
    "def square (x):\n",
    "    return x*x"
   ]
  },
  {
   "cell_type": "code",
   "execution_count": 13,
   "metadata": {
    "collapsed": false,
    "scrolled": true
   },
   "outputs": [
    {
     "name": "stdout",
     "output_type": "stream",
     "text": [
      "5 is an oddjob\n",
      "6\n"
     ]
    },
    {
     "data": {
      "text/plain": [
       "6"
      ]
     },
     "execution_count": 13,
     "metadata": {},
     "output_type": "execute_result"
    }
   ],
   "source": [
    "#if_even = lambda x: True if x%2==0 else False\n",
    "\n",
    "# SAME AS -->\n",
    "\n",
    "def even_checker_func(number):\n",
    "    if (number)%2==0:\n",
    "        print(number)\n",
    "        return(number)\n",
    "    else:\n",
    "        print(str(number) + \" is an oddjob\")\n",
    "        \n",
    "even_checker_func(5)\n",
    "even_checker_func(6)"
   ]
  },
  {
   "cell_type": "code",
   "execution_count": 8,
   "metadata": {
    "collapsed": false
   },
   "outputs": [
    {
     "name": "stdout",
     "output_type": "stream",
     "text": [
      "Beep\n",
      "5 is not a word!\n"
     ]
    }
   ],
   "source": [
    "#is_string = lambda x: isinstance(x, str)\n",
    "\n",
    "# SAME AS -->\n",
    "\n",
    "def string_checker_func(thing):\n",
    "    if isinstance(thing, str):\n",
    "        print(thing)\n",
    "        return(thing)\n",
    "    else:\n",
    "        print(str(thing) + \" is not a word!\")\n",
    "\n",
    "string_checker_func(\"Beep\")\n",
    "string_checker_func(5)"
   ]
  },
  {
   "cell_type": "code",
   "execution_count": 7,
   "metadata": {
    "collapsed": false
   },
   "outputs": [
    {
     "name": "stdout",
     "output_type": "stream",
     "text": [
      "take off the tinfoil hat\n",
      "False!! clearly the internet forums are right\n"
     ]
    }
   ],
   "source": [
    "#map_true_to_yes = lambda x: 'yes' if x is True else 'no'\n",
    "\n",
    "# SAME AS -->\n",
    "\n",
    "def boolean_checker_func(maff):\n",
    "    if (maff)==True:\n",
    "        print\"take off the tinfoil hat\"\n",
    "    else:\n",
    "        print(str(maff) + \"!! clearly the internet forums are right\")\n",
    "\n",
    "boolean_checker_func(1 != 0)\n",
    "boolean_checker_func(1+1 == 0)"
   ]
  },
  {
   "cell_type": "code",
   "execution_count": 2,
   "metadata": {
    "collapsed": false
   },
   "outputs": [
    {
     "ename": "SyntaxError",
     "evalue": "invalid syntax (<ipython-input-2-c302105d8aeb>, line 1)",
     "output_type": "error",
     "traceback": [
      "\u001b[0;36m  File \u001b[0;32m\"<ipython-input-2-c302105d8aeb>\"\u001b[0;36m, line \u001b[0;32m1\u001b[0m\n\u001b[0;31m    def map_true_to_yes()\u001b[0m\n\u001b[0m                         ^\u001b[0m\n\u001b[0;31mSyntaxError\u001b[0m\u001b[0;31m:\u001b[0m invalid syntax\n"
     ]
    }
   ],
   "source": [
    "def map_true_to_yes()"
   ]
  },
  {
   "cell_type": "code",
   "execution_count": 3,
   "metadata": {
    "collapsed": false
   },
   "outputs": [
    {
     "ename": "SyntaxError",
     "evalue": "invalid syntax (<ipython-input-3-6807ad57ba54>, line 2)",
     "output_type": "error",
     "traceback": [
      "\u001b[0;36m  File \u001b[0;32m\"<ipython-input-3-6807ad57ba54>\"\u001b[0;36m, line \u001b[0;32m2\u001b[0m\n\u001b[0;31m    if num%2==0 print(num)\u001b[0m\n\u001b[0m                    ^\u001b[0m\n\u001b[0;31mSyntaxError\u001b[0m\u001b[0;31m:\u001b[0m invalid syntax\n"
     ]
    }
   ],
   "source": [
    "def num_even(num):\n",
    "    if num%2==0 print(num)\n",
    "    else:\n",
    "        print('sad')"
   ]
  },
  {
   "cell_type": "markdown",
   "metadata": {},
   "source": [
    "Bonus Credit: Write a polynomial\n",
    "\n",
    "--> a*x^2+b*x+c\n",
    "\n",
    "call_polynomial(a, b, b, x)"
   ]
  },
  {
   "cell_type": "code",
   "execution_count": null,
   "metadata": {
    "collapsed": true
   },
   "outputs": [],
   "source": []
  }
 ],
 "metadata": {
  "kernelspec": {
   "display_name": "Python 2",
   "language": "python",
   "name": "python2"
  },
  "language_info": {
   "codemirror_mode": {
    "name": "ipython",
    "version": 2
   },
   "file_extension": ".py",
   "mimetype": "text/x-python",
   "name": "python",
   "nbconvert_exporter": "python",
   "pygments_lexer": "ipython2",
   "version": "2.7.10"
  }
 },
 "nbformat": 4,
 "nbformat_minor": 0
}
